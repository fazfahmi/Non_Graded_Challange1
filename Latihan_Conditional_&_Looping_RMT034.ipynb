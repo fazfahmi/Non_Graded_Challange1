{
  "nbformat": 4,
  "nbformat_minor": 0,
  "metadata": {
    "colab": {
      "provenance": [],
      "include_colab_link": true
    },
    "kernelspec": {
      "name": "python3",
      "display_name": "Python 3"
    },
    "language_info": {
      "name": "python"
    }
  },
  "cells": [
    {
      "cell_type": "markdown",
      "metadata": {
        "id": "view-in-github",
        "colab_type": "text"
      },
      "source": [
        "<a href=\"https://colab.research.google.com/github/fazfahmi/Non_Graded_Challange1/blob/main/Latihan_Conditional_%26_Looping_RMT034.ipynb\" target=\"_parent\"><img src=\"https://colab.research.google.com/assets/colab-badge.svg\" alt=\"Open In Colab\"/></a>"
      ]
    },
    {
      "cell_type": "code",
      "source": [
        "print('halo selamat datang di toko budi')"
      ],
      "metadata": {
        "id": "brPNKjY_M3FX"
      },
      "execution_count": null,
      "outputs": []
    },
    {
      "cell_type": "markdown",
      "source": [
        "# LATIHAN - P0W1D3AM : Conditional & Looping"
      ],
      "metadata": {
        "id": "f3fwm9AXSf4W"
      }
    },
    {
      "cell_type": "markdown",
      "source": [
        "**NOMOR 1**\n",
        "\n",
        "Buatlah sebuah kondisi untuk mengecek apakah variabel `a` **lebih kecil** dari variabel `b` berdasarkan nilai dibawah ini :\n",
        "* `a` = 100\n",
        "* `b` = 200\n",
        "\n",
        "Jika `True` maka tulis/cetak `a lebih kecil dari b`"
      ],
      "metadata": {
        "id": "KwQ65oWbSk3E"
      }
    },
    {
      "cell_type": "code",
      "source": [
        "a = 100\n",
        "b = 200\n",
        "\n",
        "if a < b:\n",
        "  print (\"a lebih kecil dari b\")"
      ],
      "metadata": {
        "id": "Rpd424VzMZba",
        "outputId": "015cc1a4-7ad1-4e1c-a38e-e8463da88d7f",
        "colab": {
          "base_uri": "https://localhost:8080/"
        }
      },
      "execution_count": 5,
      "outputs": [
        {
          "output_type": "stream",
          "name": "stdout",
          "text": [
            "a lebih kecil dari b\n"
          ]
        }
      ]
    },
    {
      "cell_type": "markdown",
      "source": [
        "**NOMOR 2**\n",
        "\n",
        "Buatlah sebuah kondisi untuk mengecek apakah variabel `a` **lebih besar** dari variabel `b` berdasarkan nilai dibawah ini :\n",
        "* `a` = 100\n",
        "* `b` = 200\n",
        "\n",
        "Jika `True` maka tulis/cetak `a lebih besar dari b`"
      ],
      "metadata": {
        "id": "3VTram85TxLA"
      }
    },
    {
      "cell_type": "code",
      "source": [
        "if a > b:\n",
        "  print(\"a lebih besar dari b\")"
      ],
      "metadata": {
        "id": "jGmT77M4MYuB"
      },
      "execution_count": 6,
      "outputs": []
    },
    {
      "cell_type": "markdown",
      "source": [
        "**NOMOR 3**\n",
        "\n",
        "Buatlah sebuah kondisi untuk mengecek apakah variabel `a` **tidak sama dengan**  variabel `b` berdasarkan nilai dibawah ini :\n",
        "* `a` = `januari`\n",
        "* `b` = `februari`\n",
        "\n",
        "Jika `True` maka tulis/cetak `a tidak sama dengan b`\n",
        "\n",
        "Jika `False` maka tulis/cetak `a sama dengan b`"
      ],
      "metadata": {
        "id": "nJ04rhbDUDuI"
      }
    },
    {
      "cell_type": "code",
      "source": [
        "a = \"Januari\"\n",
        "b = \"Februari\"\n",
        "\n",
        "if a != b:\n",
        "  print(\"a tidak sama dengan b\")\n",
        "else:\n",
        "  print(\"a sama dengan b\")"
      ],
      "metadata": {
        "id": "HvwYDFVGMfdT",
        "outputId": "489a9aa2-79b8-45b0-ae28-78bb56a00c22",
        "colab": {
          "base_uri": "https://localhost:8080/"
        }
      },
      "execution_count": 10,
      "outputs": [
        {
          "output_type": "stream",
          "name": "stdout",
          "text": [
            "a tidak sama dengan b\n"
          ]
        }
      ]
    },
    {
      "cell_type": "markdown",
      "source": [
        "**NOMOR 4**\n",
        "\n",
        "Buatlah sebuah kondisi untuk mengecek apakah variabel `a` **sama dengan**  variabel `b` berdasarkan nilai dibawah ini :\n",
        "* `a` = 1000\n",
        "* `b` = 1000.0\n",
        "\n",
        "Jika `True` maka jangan menampilkan apapun\n",
        "\n",
        "Jika `False` maka tulis/cetak `a tidak sama dengan b`"
      ],
      "metadata": {
        "id": "bbHY6mLEfCtm"
      }
    },
    {
      "cell_type": "code",
      "source": [
        "a = 1000\n",
        "b = 1000.0\n",
        "\n",
        "if a == b:\n",
        "  pass\n",
        "else:\n",
        "  print(\"a tidak sama dengan b\")"
      ],
      "metadata": {
        "id": "boNpvqT0MhkK"
      },
      "execution_count": 13,
      "outputs": []
    },
    {
      "cell_type": "markdown",
      "source": [
        "**NOMOR 5**\n",
        "\n",
        "Buatlah sebuah kondisi untuk mengecek apakah variabel `a` **berbeda**  variabel `b` berdasarkan nilai dibawah ini :\n",
        "* `angka_ganjil` = `[1, 3, 5, 7]`\n",
        "* `angka_genap`  = `[2, 4, 6, 8]`\n",
        "\n",
        "Jika `True` maka tulis/cetak `a berbeda dengan b`\n",
        "\n",
        "Jika `False` maka tulis/cetak `a sama dengan b`"
      ],
      "metadata": {
        "id": "b_v1w6L-VsD8"
      }
    },
    {
      "cell_type": "code",
      "source": [
        "angka_ganjil = [1, 3, 5, 7]\n",
        "angka_genap = [2, 4, 6, 8]\n",
        "\n",
        "if a == b:\n",
        "  print(\"a berbeda dengan b\")\n",
        "else:\n",
        "  print(\"a sama dengan b\")"
      ],
      "metadata": {
        "id": "RgkXSGk8MjIb",
        "outputId": "66232931-6b8d-4af2-8fed-de2ae1ce92bf",
        "colab": {
          "base_uri": "https://localhost:8080/"
        }
      },
      "execution_count": 15,
      "outputs": [
        {
          "output_type": "stream",
          "name": "stdout",
          "text": [
            "a berbeda dengan b\n"
          ]
        }
      ]
    },
    {
      "cell_type": "markdown",
      "source": [
        "**NOMOR 6**\n",
        "\n",
        "Buatlah sebuah kondisi untuk mengecek apakah variabel-variabel dibawah ini termasuk salah satu nilai dari variabel lain atau tidak\n",
        "\n",
        "* *`pendidikan` = `s1`* terhadap *`daftar_pendidikan` = ['s1', 's2', 's3']*\n",
        "* *`nama` = `budi`* terhadap *`nama_lengkap` = `budi kurniawan`*\n",
        "\n",
        "Jika True maka tulis/cetak `merupakan bagian`\n",
        "\n",
        "Jika False maka tulis/cetak `bukan merupakan bagian`"
      ],
      "metadata": {
        "id": "QAuu7AtZeHHo"
      }
    },
    {
      "cell_type": "code",
      "source": [
        "daftar_pendidikan = ['s1', 's2', 's3']\n",
        "pendidikan = 's1'\n",
        "\n",
        "if 'pendidikan' in 'daftar_pendidikan':\n",
        "  print (\"merupakan bagian\")\n",
        "else:\n",
        "  print (\"bukan merupakan bagian\")"
      ],
      "metadata": {
        "id": "hoYra7dFMnnO",
        "outputId": "68f1f378-7dcb-4cca-eaa4-e04dd4b70320",
        "colab": {
          "base_uri": "https://localhost:8080/"
        }
      },
      "execution_count": 21,
      "outputs": [
        {
          "output_type": "stream",
          "name": "stdout",
          "text": [
            "merupakan bagian\n"
          ]
        }
      ]
    },
    {
      "cell_type": "code",
      "source": [
        "nama_Lengkap = \"budi kurniawan\"\n",
        "nama = \"budi\"\n",
        "\n",
        "if 'nama' in 'nama_Lengkap':\n",
        "  print (\"merupakan bagian\")\n",
        "else:\n",
        "  print (\"bukan merupakan bagian\")"
      ],
      "metadata": {
        "id": "XbSRI8xuMtSa",
        "outputId": "84e6adcb-3954-42c8-c6c0-8868e2a06975",
        "colab": {
          "base_uri": "https://localhost:8080/"
        }
      },
      "execution_count": 23,
      "outputs": [
        {
          "output_type": "stream",
          "name": "stdout",
          "text": [
            "merupakan bagian\n"
          ]
        }
      ]
    },
    {
      "cell_type": "markdown",
      "source": [
        "**NOMOR 7**\n",
        "\n",
        "Buatlah sebuah kondisi untuk mengecek hubungan dua variabel dibawah ini :\n",
        "\n",
        "* `a` = 100\n",
        "* `b` = 100\n",
        "\n",
        "Jika `a < b` maka tulis/cetak `a lebih kecil dari b`\n",
        "\n",
        "Jika `a > b` maka tulis/cetak `a lebih besar dari b`\n",
        "\n",
        "Selain kondisi diatas, maka tulis/cetak `a sama dengan b`"
      ],
      "metadata": {
        "id": "xKB0rquQgyU1"
      }
    },
    {
      "cell_type": "code",
      "source": [
        "a = 100\n",
        "b = 100\n",
        "\n",
        "if a < b:\n",
        "  print(\"a lebih kecil dari b\")\n",
        "elif a > b:\n",
        "  print(\"a lebih besar dari b\")\n",
        "else:\n",
        "  print(\"a sama dengan b\")"
      ],
      "metadata": {
        "id": "CslJaYt_MxEp",
        "outputId": "7d53bf68-d5df-4d7f-bfe9-3b0ef17aeab0",
        "colab": {
          "base_uri": "https://localhost:8080/"
        }
      },
      "execution_count": 24,
      "outputs": [
        {
          "output_type": "stream",
          "name": "stdout",
          "text": [
            "a sama dengan b\n"
          ]
        }
      ]
    },
    {
      "cell_type": "markdown",
      "source": [
        "**NOMOR 8**\n",
        "\n",
        "Buatlah sebuah kondisi untuk memilih menu makanan dengan syarat :\n",
        "\n",
        "* Pilih `nasi goreng` jika uang yang dimiliki lebih dari sama dengan Rp 15.000,-\n",
        "* Pilih `ketoprak` jika uang yang dimiliki lebih dari sama dengan Rp 10.000 dan kurang dari Rp 15.000,-\n",
        "* Pilih `batagor` jika uang yang dimiliki lebih dari sama dengan Rp 5.000 dan kurang Rp 10.000,-\n",
        "* Pilih `es teh manis` jika uang yang dimiliki kurang dari Rp 5000"
      ],
      "metadata": {
        "id": "6-2lRRq0e0v2"
      }
    },
    {
      "cell_type": "code",
      "source": [
        "#input\n",
        "uang = 13000\n",
        "\n",
        "if uang > 15000:\n",
        "  print(\"Pilih nasi goreng\")\n",
        "elif uang < 15000:\n",
        "  print(\"Pilih ketoprak\")\n",
        "elif uang < 10000:\n",
        "  print(\"Pilih batagor\")\n",
        "else:\n",
        "  print(\"Pilih es teh manis\")"
      ],
      "metadata": {
        "id": "a6nGhaBS30h5",
        "outputId": "06309983-64e6-40a7-f17c-904f8308420c",
        "colab": {
          "base_uri": "https://localhost:8080/"
        }
      },
      "execution_count": 68,
      "outputs": [
        {
          "output_type": "stream",
          "name": "stdout",
          "text": [
            "Pilih ketoprak\n"
          ]
        }
      ]
    },
    {
      "cell_type": "markdown",
      "source": [
        "**NOMOR 9**\n",
        "\n",
        "Buatlah sebuah perulangan untuk mencetak/menulis kata `hello` sebanyak `5` kali."
      ],
      "metadata": {
        "id": "0LRQikHLhzxx"
      }
    },
    {
      "cell_type": "code",
      "source": [
        "n = 5\n",
        "while n > 0:\n",
        "  n -= 1\n",
        "  print('hello')"
      ],
      "metadata": {
        "id": "Xsti9HXWM95y",
        "outputId": "7fbde36a-3e6a-4048-8235-a0079281349f",
        "colab": {
          "base_uri": "https://localhost:8080/"
        }
      },
      "execution_count": 71,
      "outputs": [
        {
          "output_type": "stream",
          "name": "stdout",
          "text": [
            "hello\n",
            "hello\n",
            "hello\n",
            "hello\n",
            "hello\n"
          ]
        }
      ]
    },
    {
      "cell_type": "markdown",
      "source": [
        "**NOMOR 10**\n",
        "\n",
        "Buatlah sebuah perulangan untuk menampilkan angka dari `0` - `5`\n",
        "\n",
        "*Hasil : 0, 1, 2, 3, 4, 5*"
      ],
      "metadata": {
        "id": "q1u5JgNcjDER"
      }
    },
    {
      "cell_type": "code",
      "source": [
        "n = 0\n",
        "while n < 6:\n",
        "  print(n)\n",
        "  n += 1"
      ],
      "metadata": {
        "id": "_5D3mGIIM9gQ",
        "outputId": "1d1a4c13-4ac5-46d9-df6a-fa4e77ebba9f",
        "colab": {
          "base_uri": "https://localhost:8080/"
        }
      },
      "execution_count": 75,
      "outputs": [
        {
          "output_type": "stream",
          "name": "stdout",
          "text": [
            "0\n",
            "1\n",
            "2\n",
            "3\n",
            "4\n",
            "5\n"
          ]
        }
      ]
    },
    {
      "cell_type": "markdown",
      "source": [
        "**NOMOR 11**\n",
        "\n",
        "Buatlah sebuah perulangan untuk menampilkan angka dari `3` - `5`\n",
        "\n",
        "*Hasil : 3, 4, 5*"
      ],
      "metadata": {
        "id": "1D-AQ-pij46e"
      }
    },
    {
      "cell_type": "code",
      "source": [
        "n = 3\n",
        "while n < 6:\n",
        "  print(n)\n",
        "  n += 1"
      ],
      "metadata": {
        "id": "_dZoILmlM_2t",
        "outputId": "dff25932-bd02-4c3d-80ec-7cb2fc58d533",
        "colab": {
          "base_uri": "https://localhost:8080/"
        }
      },
      "execution_count": 79,
      "outputs": [
        {
          "output_type": "stream",
          "name": "stdout",
          "text": [
            "3\n",
            "4\n",
            "5\n"
          ]
        }
      ]
    },
    {
      "cell_type": "markdown",
      "source": [
        "**NOMOR 12**\n",
        "\n",
        "Buatlah sebuah perulangan untuk menampilkan angka dari `1` - `10` dengan jarak angka adalah `3`\n",
        "\n",
        "*Hasil : 1, 4, 7, 10*"
      ],
      "metadata": {
        "id": "uSEVraIukViN"
      }
    },
    {
      "cell_type": "code",
      "source": [
        "n = 1\n",
        "while n < 11:\n",
        "  print(n)\n",
        "  n += 3"
      ],
      "metadata": {
        "id": "-ABJEE5nNBCW",
        "outputId": "c2ab694a-3a67-4e67-a29c-d28e27071474",
        "colab": {
          "base_uri": "https://localhost:8080/"
        }
      },
      "execution_count": 81,
      "outputs": [
        {
          "output_type": "stream",
          "name": "stdout",
          "text": [
            "1\n",
            "4\n",
            "7\n",
            "10\n"
          ]
        }
      ]
    },
    {
      "cell_type": "markdown",
      "source": [
        "**NOMOR 13**\n",
        "\n",
        "Buatlah sebuah perulangan untuk menampilkan angka dari `1` - `10` dan berhenti dengan kondisi jika angka tersebut adalah `8`\n",
        "\n",
        "*Hasil : 1, 2, 3, 4, 5, 6, 7, 8*"
      ],
      "metadata": {
        "id": "DtDfto_5k75u"
      }
    },
    {
      "cell_type": "code",
      "source": [
        "n = 0\n",
        "while n < 11:\n",
        "  n += 1\n",
        "  if n == 9:\n",
        "    break\n",
        "  print(n)"
      ],
      "metadata": {
        "id": "JpetMN9oNGMN",
        "outputId": "f3a7acb4-f858-4896-bffe-259c597b8006",
        "colab": {
          "base_uri": "https://localhost:8080/"
        }
      },
      "execution_count": 101,
      "outputs": [
        {
          "output_type": "stream",
          "name": "stdout",
          "text": [
            "1\n",
            "2\n",
            "3\n",
            "4\n",
            "5\n",
            "6\n",
            "7\n",
            "8\n"
          ]
        }
      ]
    },
    {
      "cell_type": "markdown",
      "source": [
        "**NOMOR 14**\n",
        "\n",
        "Buatlah sebuah perulangan untuk menampilkan angka genap dari `1` - `10` dan angka tersebut kurang dari sama dengan 6\n",
        "\n",
        "*Hasil : 2, 4, 6*"
      ],
      "metadata": {
        "id": "xHUh5DxDmkjm"
      }
    },
    {
      "cell_type": "code",
      "source": [
        "n = 0\n",
        "while n < 6:\n",
        "  n += 2\n",
        "  print(n)"
      ],
      "metadata": {
        "id": "DdWcD-ZJNHN0",
        "outputId": "51cc1859-8627-4a8b-cdf8-aeaa57421e67",
        "colab": {
          "base_uri": "https://localhost:8080/"
        }
      },
      "execution_count": 106,
      "outputs": [
        {
          "output_type": "stream",
          "name": "stdout",
          "text": [
            "2\n",
            "4\n",
            "6\n"
          ]
        }
      ]
    },
    {
      "cell_type": "markdown",
      "source": [
        "**NOMOR 15**\n",
        "\n",
        "Buatlah sebuah perulangan untuk menampilkan isi dari variabel list dibawah ini :\n",
        "\n",
        "* `daftar_nama` = `['anwar', 'budi', 'cecep', 'deny']`"
      ],
      "metadata": {
        "id": "eHuyyy7cmFTc"
      }
    },
    {
      "cell_type": "code",
      "source": [
        "daftar_nama = ['anwar', 'budi', 'cecep', 'deny']\n",
        "for nama in daftar_nama:\n",
        "  print(nama)"
      ],
      "metadata": {
        "id": "FXpoig-GNKdo",
        "outputId": "931d4829-f2e5-40a3-dc4e-8f697d897914",
        "colab": {
          "base_uri": "https://localhost:8080/"
        }
      },
      "execution_count": 107,
      "outputs": [
        {
          "output_type": "stream",
          "name": "stdout",
          "text": [
            "anwar\n",
            "budi\n",
            "cecep\n",
            "deny\n"
          ]
        }
      ]
    }
  ]
}